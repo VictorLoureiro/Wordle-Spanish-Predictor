{
  "cells": [
    {
      "cell_type": "markdown",
      "metadata": {
        "id": "view-in-github",
        "colab_type": "text"
      },
      "source": [
        "<a href=\"https://colab.research.google.com/github/VictorLoureiro/Wordle-Spanish-Predictor/blob/main/data_retrieval.ipynb\" target=\"_parent\"><img src=\"https://colab.research.google.com/assets/colab-badge.svg\" alt=\"Open In Colab\"/></a>"
      ]
    },
    {
      "cell_type": "code",
      "execution_count": 17,
      "metadata": {
        "id": "3wnjuUE--T1K"
      },
      "outputs": [],
      "source": [
        "from urllib.request import urlretrieve"
      ]
    },
    {
      "cell_type": "code",
      "execution_count": 18,
      "metadata": {
        "colab": {
          "base_uri": "https://localhost:8080/"
        },
        "id": "41HklXIOG7nV",
        "outputId": "dbb6b43c-7105-4c51-949c-beb5d3be4dff"
      },
      "outputs": [
        {
          "output_type": "stream",
          "name": "stdout",
          "text": [
            "Number of words: 636598\n"
          ]
        }
      ],
      "source": [
        "# GET SPANISH WORDS\n",
        "urlretrieve(\"https://raw.githubusercontent.com/lorenbrichter/Words/master/Words/es.txt\", \"es.txt\")\n",
        "spanish_words = list();\n",
        "with open('es.txt', 'r') as f:\n",
        "    spanish_words = [line.strip() for line in f];\n",
        "number_of_spanish_words = len(spanish_words);\n",
        "print(\"Number of words: \"+ str(number_of_spanish_words));"
      ]
    },
    {
      "cell_type": "code",
      "execution_count": 19,
      "metadata": {
        "colab": {
          "base_uri": "https://localhost:8080/"
        },
        "id": "fVFt1KzSX5V-",
        "outputId": "79afe919-f552-4ee3-eab8-fabdfa4a7d0b"
      },
      "outputs": [
        {
          "output_type": "stream",
          "name": "stdout",
          "text": [
            "Number of 5-chars words: 10836 (0.02%)\n"
          ]
        }
      ],
      "source": [
        "# FILTER ONLY 5 CHARS SPANISH WORDS\n",
        "spanish_5_chars_words = [word for word in spanish_words if len(word) == 5];\n",
        "number_of_spanish_5_chars_words = len(spanish_5_chars_words);\n",
        "print(\"Number of 5-chars words: \"+ str(number_of_spanish_5_chars_words) + \" (\" + str(\"{:.2f}\".format(number_of_spanish_5_chars_words/number_of_spanish_words))+\"%)\");"
      ]
    },
    {
      "cell_type": "code",
      "execution_count": 20,
      "metadata": {
        "colab": {
          "base_uri": "https://localhost:8080/"
        },
        "id": "rxSAtjNUqPCm",
        "outputId": "b4fc9f7e-80f6-4c9c-adc3-d14c447ffa1b"
      },
      "outputs": [
        {
          "output_type": "stream",
          "name": "stdout",
          "text": [
            "Number of wordle possible guesses: 11188\n"
          ]
        }
      ],
      "source": [
        "# GET WORDLE POSSIBLE GUESSES\n",
        "urlretrieve(\"https://raw.githubusercontent.com/VictorLoureiro/Wordle-Spanish-Predictor/main/data/wordle_raw_data.txt\", \"wordle_raw_data.txt\")\n",
        "game_words = list();\n",
        "with open('wordle_raw_data.txt', 'r') as f:\n",
        "    game_words = [line.strip() for line in f];\n",
        "    game_words = game_words[0].split('\"');\n",
        "\n",
        "game_words = list(set(game_words));\n",
        "game_words.remove(',');\n",
        "game_words.remove('');\n",
        "\n",
        "for i in range(len(game_words)):\n",
        "  if ('\\\\xf1' in game_words[i]):\n",
        "    game_words[i] = game_words[i].replace('\\\\xf1', 'ñ');\n",
        "\n",
        "print(\"Number of wordle possible guesses: \"+ str(len(game_words)));"
      ]
    },
    {
      "cell_type": "code",
      "execution_count": 21,
      "metadata": {
        "colab": {
          "base_uri": "https://localhost:8080/"
        },
        "id": "lunLrjZbt5Lu",
        "outputId": "9eb41c26-5152-4cf7-f4c7-8af3efa4f4e4"
      },
      "outputs": [
        {
          "output_type": "stream",
          "name": "stdout",
          "text": [
            "Total number of words: 12123\n"
          ]
        }
      ],
      "source": [
        "# JOIN BOTH LISTS\n",
        "total_words = list(set(spanish_5_chars_words+game_words));\n",
        "number_of_total_words = len(total_words);\n",
        "print(\"Total number of words: \"+ str(number_of_total_words));"
      ]
    },
    {
      "cell_type": "code",
      "execution_count": 22,
      "metadata": {
        "id": "s7qoqq5ia2u-"
      },
      "outputs": [],
      "source": [
        "with open('spanish_5_chars_words.txt', 'w') as f:\n",
        "    for word in total_words:\n",
        "        f.write(\"%s\\n\" % word)"
      ]
    }
  ],
  "metadata": {
    "colab": {
      "collapsed_sections": [],
      "name": "data_retrieval.ipynb",
      "provenance": [],
      "authorship_tag": "ABX9TyMxqk7A8Ug6IZtLU9Tlx6cb",
      "include_colab_link": true
    },
    "kernelspec": {
      "display_name": "Python 3",
      "name": "python3"
    },
    "language_info": {
      "name": "python"
    }
  },
  "nbformat": 4,
  "nbformat_minor": 0
}