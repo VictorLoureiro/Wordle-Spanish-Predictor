{
  "nbformat": 4,
  "nbformat_minor": 0,
  "metadata": {
    "colab": {
      "name": "data_analysis.ipynb",
      "provenance": [],
      "collapsed_sections": [],
      "authorship_tag": "ABX9TyPVJEQ8YtF2NRks3RaGFEwu",
      "include_colab_link": true
    },
    "kernelspec": {
      "name": "python3",
      "display_name": "Python 3"
    },
    "language_info": {
      "name": "python"
    }
  },
  "cells": [
    {
      "cell_type": "markdown",
      "metadata": {
        "id": "view-in-github",
        "colab_type": "text"
      },
      "source": [
        "<a href=\"https://colab.research.google.com/github/VictorLoureiro/Wordle-Spanish-Predictor/blob/main/data_analysis.ipynb\" target=\"_parent\"><img src=\"https://colab.research.google.com/assets/colab-badge.svg\" alt=\"Open In Colab\"/></a>"
      ]
    },
    {
      "cell_type": "code",
      "execution_count": 9,
      "metadata": {
        "id": "8ZtJiYt9gOkx"
      },
      "outputs": [],
      "source": [
        "from urllib.request import urlretrieve\n",
        "import matplotlib.pylab as plt"
      ]
    },
    {
      "cell_type": "code",
      "source": [
        "# GET SPANISH WORDS\n",
        "urlretrieve(\"https://raw.githubusercontent.com/VictorLoureiro/Wordle-Spanish-Predictor/main/data/spanish_5_chars_words.txt\", \"spanish_5_chars_words.txt\")\n",
        "words = list();\n",
        "with open('spanish_5_chars_words.txt', 'r') as f:\n",
        "    words = [line.strip() for line in f];\n",
        "print(\"Number of words: \"+ str(len(words)));"
      ],
      "metadata": {
        "colab": {
          "base_uri": "https://localhost:8080/"
        },
        "id": "9_QhpdXP2o4W",
        "outputId": "c35007f7-0207-452c-e7e8-f8c0391995d0"
      },
      "execution_count": 10,
      "outputs": [
        {
          "output_type": "stream",
          "name": "stdout",
          "text": [
            "Number of words: 12123\n"
          ]
        }
      ]
    },
    {
      "cell_type": "code",
      "source": [
        "# COUNT SPANISH ALPHABET APPEARANCES\n",
        "spanish_dictionary = ['a', 'b', 'c', 'd', 'e', 'f', 'g', 'h', 'i', 'j', 'k', 'l', 'm',\n",
        "                      'n', 'o', 'p', 'q', 'r', 's', 't', 'u', 'v', 'w', 'x', 'y', 'z'];\n",
        "spanish_dictionary_counter_dict = {};\n",
        "\n",
        "for char in spanish_dictionary:\n",
        "  \n",
        "  char_counter = 0;\n",
        "  \n",
        "  for word in words:\n",
        "    if char in word:\n",
        "      char_counter += 1;\n",
        "  \n",
        "  spanish_dictionary_counter_dict[char] = char_counter;\n",
        "\n",
        "sorted_spanish_dictionary_counter_dict = sorted(spanish_dictionary_counter_dict.items(), key=lambda x: x[1], reverse=True)  \n",
        "sorted_spanish_dictionary_counter_dict"
      ],
      "metadata": {
        "colab": {
          "base_uri": "https://localhost:8080/"
        },
        "id": "0g3Gk2tc2JYO",
        "outputId": "c273f3d6-8cc3-4107-9602-d303c27aa865"
      },
      "execution_count": 12,
      "outputs": [
        {
          "output_type": "execute_result",
          "data": {
            "text/plain": [
              "[('a', 7684),\n",
              " ('o', 5168),\n",
              " ('e', 5065),\n",
              " ('s', 3915),\n",
              " ('r', 3723),\n",
              " ('i', 3665),\n",
              " ('n', 2832),\n",
              " ('l', 2739),\n",
              " ('u', 2664),\n",
              " ('c', 2431),\n",
              " ('t', 2253),\n",
              " ('d', 1722),\n",
              " ('m', 1713),\n",
              " ('p', 1679),\n",
              " ('b', 1336),\n",
              " ('g', 1140),\n",
              " ('j', 881),\n",
              " ('f', 839),\n",
              " ('h', 804),\n",
              " ('v', 723),\n",
              " ('z', 658),\n",
              " ('y', 491),\n",
              " ('x', 149),\n",
              " ('q', 121),\n",
              " ('k', 54),\n",
              " ('w', 14)]"
            ]
          },
          "metadata": {},
          "execution_count": 12
        }
      ]
    },
    {
      "cell_type": "code",
      "source": [
        "# GET SPANISH ALPHABET FREQUENCIES\n",
        "spanish_dictionary_frequencies_dict = {};\n",
        "\n",
        "for char in spanish_dictionary:\n",
        "  \n",
        "  spanish_dictionary_frequencies_dict[char] = spanish_dictionary_counter_dict[char] / len(words);\n",
        "\n",
        "sorted_spanish_dictionary_frequencies_dict = sorted(spanish_dictionary_frequencies_dict.items(), key=lambda x: x[1], reverse=True)  \n",
        "sorted_spanish_dictionary_frequencies_dict"
      ],
      "metadata": {
        "colab": {
          "base_uri": "https://localhost:8080/"
        },
        "id": "p1oLfW622tRP",
        "outputId": "09801e56-fb07-4a5c-ccd1-532c96825dae"
      },
      "execution_count": 14,
      "outputs": [
        {
          "output_type": "execute_result",
          "data": {
            "text/plain": [
              "[('a', 0.6338365091149055),\n",
              " ('o', 0.42629712117462676),\n",
              " ('e', 0.41780087437103025),\n",
              " ('s', 0.32293986636971045),\n",
              " ('r', 0.3071022024251423),\n",
              " ('i', 0.30231790810855397),\n",
              " ('n', 0.2336055431823806),\n",
              " ('l', 0.22593417470923038),\n",
              " ('u', 0.21974758723088345),\n",
              " ('c', 0.2005279221314856),\n",
              " ('t', 0.18584508784954218),\n",
              " ('d', 0.14204404850284583),\n",
              " ('m', 0.1413016580054442),\n",
              " ('p', 0.1384970716819269),\n",
              " ('b', 0.11020374494762022),\n",
              " ('g', 0.09403612967087355),\n",
              " ('j', 0.07267178091231544),\n",
              " ('f', 0.06920729192444114),\n",
              " ('h', 0.06632021776787923),\n",
              " ('v', 0.05963870329126454),\n",
              " ('z', 0.05427699414336385),\n",
              " ('y', 0.040501526024911326),\n",
              " ('x', 0.012290687123649262),\n",
              " ('q', 0.009981027798399737),\n",
              " ('k', 0.004454342984409799),\n",
              " ('w', 0.0011548296626247628)]"
            ]
          },
          "metadata": {},
          "execution_count": 14
        }
      ]
    },
    {
      "cell_type": "code",
      "source": [
        "# SORT WORDS BY COUNTERS AND FREQUENCIES\n",
        "\n",
        "sorted_spanish_dictionary_frequencies_keys = list();\n",
        "sorted_spanish_dictionary_frequencies_values = list();\n",
        "\n",
        "for item in sorted_spanish_dictionary_frequencies_dict:\n",
        "\n",
        "  sorted_spanish_dictionary_frequencies_keys.append(item[0]);\n",
        "  sorted_spanish_dictionary_frequencies_values.append(item[1]);\n",
        "\n",
        "sorted_spanish_dictionary_counter_keys = list();\n",
        "sorted_spanish_dictionary_counter_values = list();\n",
        "\n",
        "for item in sorted_spanish_dictionary_counter_dict:\n",
        "  \n",
        "  sorted_spanish_dictionary_counter_keys.append(item[0]);\n",
        "  sorted_spanish_dictionary_counter_values.append(item[1]);"
      ],
      "metadata": {
        "id": "nzSw-EWp2uWF"
      },
      "execution_count": 15,
      "outputs": []
    },
    {
      "cell_type": "code",
      "source": [
        "plt.bar(sorted_spanish_dictionary_counter_keys, sorted_spanish_dictionary_counter_values)"
      ],
      "metadata": {
        "colab": {
          "base_uri": "https://localhost:8080/",
          "height": 285
        },
        "id": "sxfmNHfB3EH4",
        "outputId": "7b54c0f8-b5fc-4222-c749-0b73b1ea2cd0"
      },
      "execution_count": 16,
      "outputs": [
        {
          "output_type": "execute_result",
          "data": {
            "text/plain": [
              "<BarContainer object of 26 artists>"
            ]
          },
          "metadata": {},
          "execution_count": 16
        },
        {
          "output_type": "display_data",
          "data": {
            "image/png": "[encoded data removed]",
            "text/plain": [
              "<Figure size 432x288 with 1 Axes>"
            ]
          },
          "metadata": {
            "needs_background": "light"
          }
        }
      ]
    },
    {
      "cell_type": "code",
      "source": [
        "plt.bar(sorted_spanish_dictionary_frequencies_keys, sorted_spanish_dictionary_frequencies_values)"
      ],
      "metadata": {
        "colab": {
          "base_uri": "https://localhost:8080/",
          "height": 282
        },
        "id": "I1CwGIot3EaO",
        "outputId": "60b7dbfd-ef64-4c81-b7ce-22438ddc70d3"
      },
      "execution_count": 17,
      "outputs": [
        {
          "output_type": "execute_result",
          "data": {
            "text/plain": [
              "<BarContainer object of 26 artists>"
            ]
          },
          "metadata": {},
          "execution_count": 17
        },
        {
          "output_type": "display_data",
          "data": {
            "image/png": "[encoded data removed]",
            "text/plain": [
              "<Figure size 432x288 with 1 Axes>"
            ]
          },
          "metadata": {
            "needs_background": "light"
          }
        }
      ]
    },
    {
      "cell_type": "code",
      "source": [
        "for word in words:\n",
        "\n",
        "  '''if ('s' in word and 'r' in word and 'n' in word): # sonar, runas, renos\n",
        "    print(word)'''\n",
        "  \n",
        "  '''if ('t' in word and 'l' in word and 'c' in word): # tecla, culto, talco, culta\n",
        "    print(word)'''\n",
        "  \n",
        "  if ('l' in word[0] and\n",
        "      'i' in word[1] and\n",
        "      'o' in word[4] and\n",
        "      't' in word[2] and\n",
        "      not ('c' in word) and\n",
        "      not ('e' in word) and\n",
        "      not ('s' in word)):\n",
        "    print(word)"
      ],
      "metadata": {
        "colab": {
          "base_uri": "https://localhost:8080/"
        },
        "id": "yH8XaBJc3JHn",
        "outputId": "ee30307a-b582-42fd-a05d-3921d096fa63"
      },
      "execution_count": 19,
      "outputs": [
        {
          "output_type": "stream",
          "name": "stdout",
          "text": [
            "litio\n",
            "litro\n",
            "lituo\n"
          ]
        }
      ]
    },
    {
      "cell_type": "code",
      "source": [
        ""
      ],
      "metadata": {
        "id": "2o6BFKE0-nsd"
      },
      "execution_count": null,
      "outputs": []
    }
  ]
}