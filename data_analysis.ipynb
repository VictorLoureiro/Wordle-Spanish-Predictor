{
  "nbformat": 4,
  "nbformat_minor": 0,
  "metadata": {
    "colab": {
      "name": "data_analysis.ipynb",
      "provenance": [],
      "collapsed_sections": [],
      "authorship_tag": "ABX9TyNQG6c12pDlWkmARXtjGYHg",
      "include_colab_link": true
    },
    "kernelspec": {
      "name": "python3",
      "display_name": "Python 3"
    },
    "language_info": {
      "name": "python"
    }
  },
  "cells": [
    {
      "cell_type": "markdown",
      "metadata": {
        "id": "view-in-github",
        "colab_type": "text"
      },
      "source": [
        "<a href=\"https://colab.research.google.com/github/VictorLoureiro/Wordle-Spanish-Predictor/blob/main/data_analysis.ipynb\" target=\"_parent\"><img src=\"https://colab.research.google.com/assets/colab-badge.svg\" alt=\"Open In Colab\"/></a>"
      ]
    },
    {
      "cell_type": "code",
      "execution_count": 38,
      "metadata": {
        "id": "8ZtJiYt9gOkx"
      },
      "outputs": [],
      "source": [
        "from urllib.request import urlretrieve\n",
        "import matplotlib.pyplot as plt\n",
        "from matplotlib.pyplot import figure"
      ]
    },
    {
      "cell_type": "code",
      "source": [
        "# GET SPANISH WORDS\n",
        "urlretrieve(\"https://raw.githubusercontent.com/VictorLoureiro/Wordle-Spanish-Predictor/main/data/spanish_5_chars_words.txt\",\n",
        "            \"spanish_5_chars_words.txt\")\n",
        "words = list();\n",
        "with open('spanish_5_chars_words.txt', 'r') as f:\n",
        "    words = [line.strip() for line in f];\n",
        "print(\"Number of words: \"+ str(len(words)));"
      ],
      "metadata": {
        "colab": {
          "base_uri": "https://localhost:8080/"
        },
        "id": "9_QhpdXP2o4W",
        "outputId": "9d518ca5-8abd-44a5-c00e-d05d666a4705"
      },
      "execution_count": 39,
      "outputs": [
        {
          "output_type": "stream",
          "name": "stdout",
          "text": [
            "Number of words: 12031\n"
          ]
        }
      ]
    },
    {
      "cell_type": "code",
      "source": [
        "def get_remaining_words_alphabet(remaining_words):\n",
        "\n",
        "  SPANISH_ALPHABET_LEN = 27;\n",
        "  remaining_alphabet = list();\n",
        "  for word in remaining_words:\n",
        "    for letter in word:\n",
        "      if (len(remaining_alphabet) == SPANISH_ALPHABET_LEN):\n",
        "        return sorted(remaining_alphabet);\n",
        "      if letter not in remaining_alphabet:\n",
        "        remaining_alphabet.append(letter);\n",
        "  return sorted(remaining_alphabet);\n",
        "\n",
        "\n",
        "spanish_alphabet = get_remaining_words_alphabet(words);\n",
        "len(spanish_alphabet)"
      ],
      "metadata": {
        "colab": {
          "base_uri": "https://localhost:8080/"
        },
        "id": "Kj8jD2OGlwSi",
        "outputId": "c807b85a-29c5-4700-dd4f-f377e822c11f"
      },
      "execution_count": 40,
      "outputs": [
        {
          "output_type": "execute_result",
          "data": {
            "text/plain": [
              "27"
            ]
          },
          "metadata": {},
          "execution_count": 40
        }
      ]
    },
    {
      "cell_type": "code",
      "source": [
        "# COUNT SPANISH ALPHABET APPEARANCES\n",
        "def get_alphabet_appearances_in_remaining_words(remaining_words, remaining_alphabet):\n",
        "\n",
        "  remaining_alphabet_counter_dict = {};\n",
        "\n",
        "  for letter in remaining_alphabet:\n",
        "    remaining_alphabet_counter_dict[letter] = 0;\n",
        "    for word in remaining_words:\n",
        "      if letter in word:\n",
        "        remaining_alphabet_counter_dict[letter] += 1;\n",
        "\n",
        "  remaining_alphabet_counter_dict = sorted(remaining_alphabet_counter_dict.items(), key=lambda x: x[1], reverse=True)  \n",
        "  return remaining_alphabet_counter_dict;\n",
        "\n",
        "sorted_remaining_alphabet_counter_dict = get_alphabet_appearances_in_remaining_words(words, spanish_alphabet);\n",
        "sorted_remaining_alphabet_counter_dict"
      ],
      "metadata": {
        "colab": {
          "base_uri": "https://localhost:8080/"
        },
        "id": "0g3Gk2tc2JYO",
        "outputId": "f5f755ab-d3b2-4371-c13d-581da60cf1b1"
      },
      "execution_count": 41,
      "outputs": [
        {
          "output_type": "execute_result",
          "data": {
            "text/plain": [
              "[('a', 7647),\n",
              " ('o', 5117),\n",
              " ('e', 5031),\n",
              " ('s', 3908),\n",
              " ('r', 3697),\n",
              " ('i', 3631),\n",
              " ('n', 2814),\n",
              " ('l', 2723),\n",
              " ('u', 2656),\n",
              " ('c', 2414),\n",
              " ('t', 2229),\n",
              " ('d', 1713),\n",
              " ('m', 1696),\n",
              " ('p', 1668),\n",
              " ('b', 1335),\n",
              " ('g', 1133),\n",
              " ('j', 881),\n",
              " ('f', 829),\n",
              " ('h', 796),\n",
              " ('v', 722),\n",
              " ('z', 657),\n",
              " ('y', 491),\n",
              " ('ñ', 443),\n",
              " ('x', 144),\n",
              " ('q', 119),\n",
              " ('k', 52),\n",
              " ('w', 14)]"
            ]
          },
          "metadata": {},
          "execution_count": 41
        }
      ]
    },
    {
      "cell_type": "code",
      "source": [
        "# SORT LETTERS BY APPEARANCE\n",
        "\n",
        "sorted_remaining_alphabet_counter_keys = list();\n",
        "sorted_remaining_alphabet_counter_values = list();\n",
        "\n",
        "for item in sorted_remaining_alphabet_counter_dict:\n",
        "  \n",
        "  sorted_remaining_alphabet_counter_keys.append(item[0]);\n",
        "  sorted_remaining_alphabet_counter_values.append(item[1]);\n",
        "\n",
        "plt.bar(sorted_remaining_alphabet_counter_keys, sorted_remaining_alphabet_counter_values)"
      ],
      "metadata": {
        "id": "nzSw-EWp2uWF",
        "colab": {
          "base_uri": "https://localhost:8080/",
          "height": 286
        },
        "outputId": "11289613-06ab-4536-ebed-41d98ba0914f"
      },
      "execution_count": 42,
      "outputs": [
        {
          "output_type": "execute_result",
          "data": {
            "text/plain": [
              "<BarContainer object of 27 artists>"
            ]
          },
          "metadata": {},
          "execution_count": 42
        },
        {
          "output_type": "display_data",
          "data": {
            "image/png": "[encoded data removed]",
            "text/plain": [
              "<Figure size 432x288 with 1 Axes>"
            ]
          },
          "metadata": {
            "needs_background": "light"
          }
        }
      ]
    },
    {
      "cell_type": "code",
      "source": [
        "# GET INFORMATION GIVEN BY EACH WORD\n",
        "def get_information_in_remaining_words(remaining_words, remaining_alphabet_counter_dict):\n",
        "\n",
        "  remaining_words_information_dict = {};\n",
        "  \n",
        "  for word in sorted(remaining_words):\n",
        "    remaining_words_information_dict[word] = 0;\n",
        "    for item in remaining_alphabet_counter_dict:\n",
        "      letter = str(item[0]);\n",
        "      letter_counter = int(item[1]);\n",
        "      if letter in word:\n",
        "        remaining_words_information_dict[word] += letter_counter;\n",
        "\n",
        "  remaining_words_information_dict = sorted(remaining_words_information_dict.items(), key=lambda x: x[1], reverse=True)  \n",
        "  return remaining_words_information_dict;\n",
        "\n",
        "sorted_remaining_words_information_dict = get_information_in_remaining_words(words, sorted_remaining_alphabet_counter_dict);\n",
        "sorted_remaining_words_information_dict[:10]"
      ],
      "metadata": {
        "id": "2o6BFKE0-nsd",
        "colab": {
          "base_uri": "https://localhost:8080/"
        },
        "outputId": "8efe8a17-57e4-4939-84fd-f679f92ef770"
      },
      "execution_count": 44,
      "outputs": [
        {
          "output_type": "execute_result",
          "data": {
            "text/plain": [
              "[('orase', 25400),\n",
              " ('oreas', 25400),\n",
              " ('osare', 25400),\n",
              " ('osear', 25400),\n",
              " ('osera', 25400),\n",
              " ('rosea', 25400),\n",
              " ('seora', 25400),\n",
              " ('aireo', 25123),\n",
              " ('asone', 24517),\n",
              " ('osean', 24517)]"
            ]
          },
          "metadata": {},
          "execution_count": 44
        }
      ]
    },
    {
      "cell_type": "code",
      "source": [
        "# SORT WORDS BY GIVEN INFORMATION\n",
        "def print_n_most_informative_remaining_words(number, remaining_words_information):\n",
        "\n",
        "  sorted_remaining_words_information_keys = list();\n",
        "  sorted_remaining_words_information_values = list();\n",
        "\n",
        "  for item in remaining_words_information:\n",
        "    \n",
        "    sorted_remaining_words_information_keys.append(item[0]);\n",
        "    sorted_remaining_words_information_values.append(item[1]);\n",
        "\n",
        "  figure(figsize=(21, 9), dpi=80)\n",
        "  plt.bar(sorted_remaining_words_information_keys[:number], sorted_remaining_words_information_values[:number])\n",
        "\n",
        "print_n_most_informative_remaining_words(20, sorted_remaining_words_information_dict);"
      ],
      "metadata": {
        "colab": {
          "base_uri": "https://localhost:8080/",
          "height": 594
        },
        "id": "9-_CrZIGEvmZ",
        "outputId": "604be349-6a79-45e3-80ac-17fd468cd4e5"
      },
      "execution_count": 45,
      "outputs": [
        {
          "output_type": "display_data",
          "data": {
            "image/png": "[encoded data removed]",
            "text/plain": [
              "<Figure size 1680x720 with 1 Axes>"
            ]
          },
          "metadata": {
            "needs_background": "light"
          }
        }
      ]
    },
    {
      "cell_type": "code",
      "source": [
        "# Removes all words that contain grey letters\n",
        "def apply_grey_filter(remaining_words_list, grey_letters_list):\n",
        "  filtered_words = remaining_words_list.copy();\n",
        "  for grey_letter in grey_letters_list:\n",
        "    filtered_words = [word for word in filtered_words if grey_letter not in word];\n",
        "  return filtered_words;\n",
        "\n",
        "# Removes all words that contain yellow letters on yellow positions\n",
        "def apply_yellow_filter(remaining_words_list, yellow_letters_dict):\n",
        "  filtered_words = remaining_words_list.copy();\n",
        "  for yellow_letter in yellow_letters_dict.items():\n",
        "    filtered_words = [word for word in filtered_words if (yellow_letter[0] in word and\n",
        "                                                          yellow_letter[0] not in word[yellow_letter[1]])];\n",
        "  return filtered_words;\n",
        "\n",
        "# Removes all words that do not contain green letters on green position\n",
        "def apply_green_filter(remaining_words_list, green_letters_dict):\n",
        "  filtered_words = remaining_words_list.copy();\n",
        "  for green_letter in green_letters_dict.items():\n",
        "    filtered_words = [word for word in filtered_words if green_letter[0] in word[green_letter[1]]];\n",
        "  return filtered_words;\n",
        "\n",
        "# Applys filters to remaining words\n",
        "def filter_words_by_results(remaining_words_list, grey_letters_list, yellow_letters_dict, green_letters_dict):\n",
        "  filtered_words = remaining_words_list.copy();\n",
        "  filtered_words = apply_grey_filter(filtered_words, grey_letters_list);\n",
        "  filtered_words = apply_yellow_filter(filtered_words, yellow_letters_dict);\n",
        "  filtered_words = apply_green_filter(filtered_words, green_letters_dict);\n",
        "  return filtered_words;"
      ],
      "metadata": {
        "id": "lhJlQzPexZeT"
      },
      "execution_count": 46,
      "outputs": []
    },
    {
      "cell_type": "code",
      "source": [
        "# LET'S PLAY\n",
        "\n",
        "# INPUT\n",
        "grey_letters_list = [];\n",
        "yellow_letters_dict = {};\n",
        "green_letters_dict = {};\n",
        "\n",
        "# WORDS LEFT\n",
        "remaining_words_after_step = filter_words_by_results(words, grey_letters_list, yellow_letters_dict, green_letters_dict);\n",
        "\n",
        "# LETTERS LEFT\n",
        "remaining_words_alphabet = get_remaining_words_alphabet(remaining_words_after_step);\n",
        "\n",
        "# LEFT LETTERS APPEARANCES\n",
        "alphabet_appearances_in_remaining_words = get_alphabet_appearances_in_remaining_words(remaining_words_after_step, remaining_words_alphabet);\n",
        "\n",
        "# LEFT WORDS INFORMATION\n",
        "information_in_remaining_words = get_information_in_remaining_words(remaining_words_after_step, alphabet_appearances_in_remaining_words);\n",
        "\n",
        "print_n_most_informative_remaining_words(25, information_in_remaining_words);"
      ],
      "metadata": {
        "colab": {
          "base_uri": "https://localhost:8080/",
          "height": 594
        },
        "id": "5JLOj_ax1qrT",
        "outputId": "e68a46e1-56ec-4e8f-f7aa-a000959a159d"
      },
      "execution_count": 47,
      "outputs": [
        {
          "output_type": "display_data",
          "data": {
            "image/png": "[encoded data removed]",
            "text/plain": [
              "<Figure size 1680x720 with 1 Axes>"
            ]
          },
          "metadata": {
            "needs_background": "light"
          }
        }
      ]
    },
    {
      "cell_type": "code",
      "source": [
        ""
      ],
      "metadata": {
        "id": "e7hTV7Tw64Mg"
      },
      "execution_count": null,
      "outputs": []
    }
  ]
}